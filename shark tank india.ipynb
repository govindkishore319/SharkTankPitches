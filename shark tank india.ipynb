{
 "cells": [
  {
   "cell_type": "code",
   "execution_count": 30,
   "metadata": {},
   "outputs": [],
   "source": [
    "import pandas as pd\n",
    "import numpy as np\n",
    "import matplotlib.pyplot as plt\n",
    "%matplotlib inline\n",
    "import seaborn as sns"
   ]
  },
  {
   "cell_type": "code",
   "execution_count": 3,
   "metadata": {},
   "outputs": [
    {
     "data": {
      "text/html": [
       "<div>\n",
       "<style scoped>\n",
       "    .dataframe tbody tr th:only-of-type {\n",
       "        vertical-align: middle;\n",
       "    }\n",
       "\n",
       "    .dataframe tbody tr th {\n",
       "        vertical-align: top;\n",
       "    }\n",
       "\n",
       "    .dataframe thead th {\n",
       "        text-align: right;\n",
       "    }\n",
       "</style>\n",
       "<table border=\"1\" class=\"dataframe\">\n",
       "  <thead>\n",
       "    <tr style=\"text-align: right;\">\n",
       "      <th></th>\n",
       "      <th>Season Number</th>\n",
       "      <th>Episode Number</th>\n",
       "      <th>Episode Title</th>\n",
       "      <th>Pitch Number</th>\n",
       "      <th>Startup Name</th>\n",
       "      <th>Industry</th>\n",
       "      <th>Business Description</th>\n",
       "      <th>Company Website</th>\n",
       "      <th>Number of Presenters</th>\n",
       "      <th>Male Presenters</th>\n",
       "      <th>...</th>\n",
       "      <th>Aman Debt Amount</th>\n",
       "      <th>Peyush Investment Amount</th>\n",
       "      <th>Peyush Investment Equity</th>\n",
       "      <th>Peyush Debt Amount</th>\n",
       "      <th>Ghazal Investment Amount</th>\n",
       "      <th>Ghazal Investment Equity</th>\n",
       "      <th>Ghazal Debt Amount</th>\n",
       "      <th>Amit Investment Amount</th>\n",
       "      <th>Amit Investment Equity</th>\n",
       "      <th>Amit Debt Amount</th>\n",
       "    </tr>\n",
       "  </thead>\n",
       "  <tbody>\n",
       "    <tr>\n",
       "      <th>0</th>\n",
       "      <td>1</td>\n",
       "      <td>1</td>\n",
       "      <td>Badlegi Business Ki Tasveer</td>\n",
       "      <td>1</td>\n",
       "      <td>BluePine Foods</td>\n",
       "      <td>Food</td>\n",
       "      <td>Frozen Momos</td>\n",
       "      <td>https://bluepinefoods.com/</td>\n",
       "      <td>3</td>\n",
       "      <td>2.0</td>\n",
       "      <td>...</td>\n",
       "      <td>NaN</td>\n",
       "      <td>NaN</td>\n",
       "      <td>NaN</td>\n",
       "      <td>NaN</td>\n",
       "      <td>NaN</td>\n",
       "      <td>NaN</td>\n",
       "      <td>NaN</td>\n",
       "      <td>NaN</td>\n",
       "      <td>NaN</td>\n",
       "      <td>NaN</td>\n",
       "    </tr>\n",
       "    <tr>\n",
       "      <th>1</th>\n",
       "      <td>1</td>\n",
       "      <td>1</td>\n",
       "      <td>Badlegi Business Ki Tasveer</td>\n",
       "      <td>2</td>\n",
       "      <td>Booz Scooters</td>\n",
       "      <td>Electrical Vehicles</td>\n",
       "      <td>Renting e-bike for mobility in private spaces</td>\n",
       "      <td>https://www.boozup.net/</td>\n",
       "      <td>1</td>\n",
       "      <td>1.0</td>\n",
       "      <td>...</td>\n",
       "      <td>NaN</td>\n",
       "      <td>NaN</td>\n",
       "      <td>NaN</td>\n",
       "      <td>NaN</td>\n",
       "      <td>NaN</td>\n",
       "      <td>NaN</td>\n",
       "      <td>NaN</td>\n",
       "      <td>NaN</td>\n",
       "      <td>NaN</td>\n",
       "      <td>NaN</td>\n",
       "    </tr>\n",
       "    <tr>\n",
       "      <th>2</th>\n",
       "      <td>1</td>\n",
       "      <td>1</td>\n",
       "      <td>Badlegi Business Ki Tasveer</td>\n",
       "      <td>3</td>\n",
       "      <td>Heart up my Sleeves</td>\n",
       "      <td>Beauty/Fashion</td>\n",
       "      <td>Detachable Sleeves</td>\n",
       "      <td>https://heartupmysleeves.com/</td>\n",
       "      <td>1</td>\n",
       "      <td>NaN</td>\n",
       "      <td>...</td>\n",
       "      <td>NaN</td>\n",
       "      <td>NaN</td>\n",
       "      <td>NaN</td>\n",
       "      <td>NaN</td>\n",
       "      <td>NaN</td>\n",
       "      <td>NaN</td>\n",
       "      <td>NaN</td>\n",
       "      <td>NaN</td>\n",
       "      <td>NaN</td>\n",
       "      <td>NaN</td>\n",
       "    </tr>\n",
       "    <tr>\n",
       "      <th>3</th>\n",
       "      <td>1</td>\n",
       "      <td>2</td>\n",
       "      <td>Insaan, Ideas Aur Sapne</td>\n",
       "      <td>4</td>\n",
       "      <td>Tagz Foods</td>\n",
       "      <td>Food</td>\n",
       "      <td>Healthy Potato Chips Snacks</td>\n",
       "      <td>https://tagzfoods.com/</td>\n",
       "      <td>2</td>\n",
       "      <td>2.0</td>\n",
       "      <td>...</td>\n",
       "      <td>NaN</td>\n",
       "      <td>NaN</td>\n",
       "      <td>NaN</td>\n",
       "      <td>NaN</td>\n",
       "      <td>NaN</td>\n",
       "      <td>NaN</td>\n",
       "      <td>NaN</td>\n",
       "      <td>NaN</td>\n",
       "      <td>NaN</td>\n",
       "      <td>NaN</td>\n",
       "    </tr>\n",
       "    <tr>\n",
       "      <th>4</th>\n",
       "      <td>1</td>\n",
       "      <td>2</td>\n",
       "      <td>Insaan, Ideas Aur Sapne</td>\n",
       "      <td>5</td>\n",
       "      <td>Head and Heart</td>\n",
       "      <td>Education</td>\n",
       "      <td>Brain Development Course</td>\n",
       "      <td>https://thehnh.in/</td>\n",
       "      <td>4</td>\n",
       "      <td>1.0</td>\n",
       "      <td>...</td>\n",
       "      <td>NaN</td>\n",
       "      <td>NaN</td>\n",
       "      <td>NaN</td>\n",
       "      <td>NaN</td>\n",
       "      <td>NaN</td>\n",
       "      <td>NaN</td>\n",
       "      <td>NaN</td>\n",
       "      <td>NaN</td>\n",
       "      <td>NaN</td>\n",
       "      <td>NaN</td>\n",
       "    </tr>\n",
       "  </tbody>\n",
       "</table>\n",
       "<p>5 rows × 54 columns</p>\n",
       "</div>"
      ],
      "text/plain": [
       "   Season Number  Episode Number                Episode Title  Pitch Number  \\\n",
       "0              1               1  Badlegi Business Ki Tasveer             1   \n",
       "1              1               1  Badlegi Business Ki Tasveer             2   \n",
       "2              1               1  Badlegi Business Ki Tasveer             3   \n",
       "3              1               2      Insaan, Ideas Aur Sapne             4   \n",
       "4              1               2      Insaan, Ideas Aur Sapne             5   \n",
       "\n",
       "          Startup Name             Industry  \\\n",
       "0       BluePine Foods                 Food   \n",
       "1        Booz Scooters  Electrical Vehicles   \n",
       "2  Heart up my Sleeves       Beauty/Fashion   \n",
       "3           Tagz Foods                 Food   \n",
       "4       Head and Heart            Education   \n",
       "\n",
       "                            Business Description  \\\n",
       "0                                   Frozen Momos   \n",
       "1  Renting e-bike for mobility in private spaces   \n",
       "2                             Detachable Sleeves   \n",
       "3                    Healthy Potato Chips Snacks   \n",
       "4                       Brain Development Course   \n",
       "\n",
       "                 Company Website  Number of Presenters  Male Presenters  ...  \\\n",
       "0     https://bluepinefoods.com/                     3              2.0  ...   \n",
       "1        https://www.boozup.net/                     1              1.0  ...   \n",
       "2  https://heartupmysleeves.com/                     1              NaN  ...   \n",
       "3         https://tagzfoods.com/                     2              2.0  ...   \n",
       "4             https://thehnh.in/                     4              1.0  ...   \n",
       "\n",
       "   Aman Debt Amount  Peyush Investment Amount  Peyush Investment Equity  \\\n",
       "0               NaN                       NaN                       NaN   \n",
       "1               NaN                       NaN                       NaN   \n",
       "2               NaN                       NaN                       NaN   \n",
       "3               NaN                       NaN                       NaN   \n",
       "4               NaN                       NaN                       NaN   \n",
       "\n",
       "  Peyush Debt Amount  Ghazal Investment Amount Ghazal Investment Equity  \\\n",
       "0                NaN                       NaN                      NaN   \n",
       "1                NaN                       NaN                      NaN   \n",
       "2                NaN                       NaN                      NaN   \n",
       "3                NaN                       NaN                      NaN   \n",
       "4                NaN                       NaN                      NaN   \n",
       "\n",
       "  Ghazal Debt Amount  Amit Investment Amount  Amit Investment Equity  \\\n",
       "0                NaN                     NaN                     NaN   \n",
       "1                NaN                     NaN                     NaN   \n",
       "2                NaN                     NaN                     NaN   \n",
       "3                NaN                     NaN                     NaN   \n",
       "4                NaN                     NaN                     NaN   \n",
       "\n",
       "   Amit Debt Amount  \n",
       "0               NaN  \n",
       "1               NaN  \n",
       "2               NaN  \n",
       "3               NaN  \n",
       "4               NaN  \n",
       "\n",
       "[5 rows x 54 columns]"
      ]
     },
     "execution_count": 3,
     "metadata": {},
     "output_type": "execute_result"
    }
   ],
   "source": [
    "df= pd.read_csv('Shark Tank India.csv')\n",
    "df.head()"
   ]
  },
  {
   "cell_type": "code",
   "execution_count": 7,
   "metadata": {},
   "outputs": [
    {
     "data": {
      "text/plain": [
       "Season Number                  0\n",
       "Episode Number                 0\n",
       "Episode Title                  0\n",
       "Pitch Number                   0\n",
       "Startup Name                   0\n",
       "Industry                       0\n",
       "Business Description           0\n",
       "Company Website                5\n",
       "Number of Presenters           0\n",
       "Male Presenters               23\n",
       "Female Presenters             82\n",
       "Transgender Presenters       168\n",
       "Couple Presenters              4\n",
       "Pitchers Average Age           0\n",
       "Started in                    52\n",
       "Pitchers City                 21\n",
       "Pitchers State                19\n",
       "Yearly Revenue               107\n",
       "Monthly Sales                 90\n",
       "Gross Margin                 129\n",
       "Original Ask Amount            0\n",
       "Original Ask Equity            0\n",
       "Valuation Requested            0\n",
       "Received Offer                 0\n",
       "Accepted Offer                59\n",
       "Total Deal Amount             87\n",
       "Total Deal Equity             87\n",
       "Total Deal Debt              157\n",
       "Valuation Offered             88\n",
       "Number of sharks in deal      88\n",
       "Ashneer Investment Amount    116\n",
       "Ashneer Investment Equity    116\n",
       "Ashneer Debt Amount          168\n",
       "Namita Investment Amount     102\n",
       "Namita Investment Equity     102\n",
       "Namita Debt Amount           167\n",
       "Anupam Investment Amount      97\n",
       "Anupam Investment Equity      97\n",
       "Anupam Debt Amount           168\n",
       "Vineeta Investment Amount    130\n",
       "Vineeta Investment Equity    130\n",
       "Vineeta Debt Amount          167\n",
       "Aman Investment Amount       107\n",
       "Aman Investment Equity       107\n",
       "Aman Debt Amount             168\n",
       "Peyush Investment Amount     109\n",
       "Peyush Investment Equity     109\n",
       "Peyush Debt Amount           164\n",
       "Ghazal Investment Amount     156\n",
       "Ghazal Investment Equity     156\n",
       "Ghazal Debt Amount           170\n",
       "Amit Investment Amount       170\n",
       "Amit Investment Equity       170\n",
       "Amit Debt Amount             170\n",
       "dtype: int64"
      ]
     },
     "execution_count": 7,
     "metadata": {},
     "output_type": "execute_result"
    }
   ],
   "source": [
    "df.isnull().sum().T"
   ]
  },
  {
   "cell_type": "code",
   "execution_count": 8,
   "metadata": {},
   "outputs": [
    {
     "data": {
      "text/plain": [
       "(170, 54)"
      ]
     },
     "execution_count": 8,
     "metadata": {},
     "output_type": "execute_result"
    }
   ],
   "source": [
    "df.shape"
   ]
  },
  {
   "cell_type": "code",
   "execution_count": 14,
   "metadata": {},
   "outputs": [],
   "source": [
    "df2= df.copy()\n",
    "df2.drop(axis=1, columns= ['Amit Investment Amount','Amit Investment Equity','Amit Debt Amount'], inplace= True)"
   ]
  },
  {
   "cell_type": "code",
   "execution_count": 20,
   "metadata": {},
   "outputs": [],
   "source": [
    "idx= df2[df2['Season Number']==2].index\n",
    "for ix in idx:\n",
    "    df2.drop(index= ix, axis=0, inplace=True)"
   ]
  },
  {
   "cell_type": "code",
   "execution_count": 130,
   "metadata": {},
   "outputs": [
    {
     "data": {
      "text/plain": [
       "(152, 51)"
      ]
     },
     "execution_count": 130,
     "metadata": {},
     "output_type": "execute_result"
    }
   ],
   "source": [
    "df3= df[df['Season Number']==1].drop(columns= ['Amit Investment Amount','Amit Investment Equity','Amit Debt Amount'])\n",
    "df3.shape          "
   ]
  },
  {
   "cell_type": "code",
   "execution_count": 21,
   "metadata": {},
   "outputs": [
    {
     "data": {
      "text/plain": [
       "(152, 51)"
      ]
     },
     "execution_count": 21,
     "metadata": {},
     "output_type": "execute_result"
    }
   ],
   "source": [
    "df2.shape"
   ]
  },
  {
   "cell_type": "code",
   "execution_count": 23,
   "metadata": {},
   "outputs": [
    {
     "data": {
      "text/html": [
       "<div>\n",
       "<style scoped>\n",
       "    .dataframe tbody tr th:only-of-type {\n",
       "        vertical-align: middle;\n",
       "    }\n",
       "\n",
       "    .dataframe tbody tr th {\n",
       "        vertical-align: top;\n",
       "    }\n",
       "\n",
       "    .dataframe thead th {\n",
       "        text-align: right;\n",
       "    }\n",
       "</style>\n",
       "<table border=\"1\" class=\"dataframe\">\n",
       "  <thead>\n",
       "    <tr style=\"text-align: right;\">\n",
       "      <th></th>\n",
       "      <th>Male Presenters</th>\n",
       "      <th>Female Presenters</th>\n",
       "      <th>Transgender Presenters</th>\n",
       "      <th>Couple Presenters</th>\n",
       "    </tr>\n",
       "  </thead>\n",
       "  <tbody>\n",
       "    <tr>\n",
       "      <th>0</th>\n",
       "      <td>2.0</td>\n",
       "      <td>1.0</td>\n",
       "      <td>NaN</td>\n",
       "      <td>0.0</td>\n",
       "    </tr>\n",
       "    <tr>\n",
       "      <th>1</th>\n",
       "      <td>1.0</td>\n",
       "      <td>NaN</td>\n",
       "      <td>NaN</td>\n",
       "      <td>0.0</td>\n",
       "    </tr>\n",
       "    <tr>\n",
       "      <th>2</th>\n",
       "      <td>NaN</td>\n",
       "      <td>1.0</td>\n",
       "      <td>NaN</td>\n",
       "      <td>0.0</td>\n",
       "    </tr>\n",
       "    <tr>\n",
       "      <th>3</th>\n",
       "      <td>2.0</td>\n",
       "      <td>NaN</td>\n",
       "      <td>NaN</td>\n",
       "      <td>0.0</td>\n",
       "    </tr>\n",
       "    <tr>\n",
       "      <th>4</th>\n",
       "      <td>1.0</td>\n",
       "      <td>3.0</td>\n",
       "      <td>NaN</td>\n",
       "      <td>1.0</td>\n",
       "    </tr>\n",
       "    <tr>\n",
       "      <th>...</th>\n",
       "      <td>...</td>\n",
       "      <td>...</td>\n",
       "      <td>...</td>\n",
       "      <td>...</td>\n",
       "    </tr>\n",
       "    <tr>\n",
       "      <th>147</th>\n",
       "      <td>2.0</td>\n",
       "      <td>NaN</td>\n",
       "      <td>NaN</td>\n",
       "      <td>0.0</td>\n",
       "    </tr>\n",
       "    <tr>\n",
       "      <th>148</th>\n",
       "      <td>1.0</td>\n",
       "      <td>1.0</td>\n",
       "      <td>NaN</td>\n",
       "      <td>1.0</td>\n",
       "    </tr>\n",
       "    <tr>\n",
       "      <th>149</th>\n",
       "      <td>1.0</td>\n",
       "      <td>1.0</td>\n",
       "      <td>NaN</td>\n",
       "      <td>0.0</td>\n",
       "    </tr>\n",
       "    <tr>\n",
       "      <th>150</th>\n",
       "      <td>2.0</td>\n",
       "      <td>NaN</td>\n",
       "      <td>NaN</td>\n",
       "      <td>0.0</td>\n",
       "    </tr>\n",
       "    <tr>\n",
       "      <th>151</th>\n",
       "      <td>2.0</td>\n",
       "      <td>1.0</td>\n",
       "      <td>NaN</td>\n",
       "      <td>1.0</td>\n",
       "    </tr>\n",
       "  </tbody>\n",
       "</table>\n",
       "<p>152 rows × 4 columns</p>\n",
       "</div>"
      ],
      "text/plain": [
       "     Male Presenters  Female Presenters  Transgender Presenters  \\\n",
       "0                2.0                1.0                     NaN   \n",
       "1                1.0                NaN                     NaN   \n",
       "2                NaN                1.0                     NaN   \n",
       "3                2.0                NaN                     NaN   \n",
       "4                1.0                3.0                     NaN   \n",
       "..               ...                ...                     ...   \n",
       "147              2.0                NaN                     NaN   \n",
       "148              1.0                1.0                     NaN   \n",
       "149              1.0                1.0                     NaN   \n",
       "150              2.0                NaN                     NaN   \n",
       "151              2.0                1.0                     NaN   \n",
       "\n",
       "     Couple Presenters  \n",
       "0                  0.0  \n",
       "1                  0.0  \n",
       "2                  0.0  \n",
       "3                  0.0  \n",
       "4                  1.0  \n",
       "..                 ...  \n",
       "147                0.0  \n",
       "148                1.0  \n",
       "149                0.0  \n",
       "150                0.0  \n",
       "151                1.0  \n",
       "\n",
       "[152 rows x 4 columns]"
      ]
     },
     "execution_count": 23,
     "metadata": {},
     "output_type": "execute_result"
    }
   ],
   "source": [
    "df2[['Male Presenters','Female Presenters','Transgender Presenters', 'Couple Presenters']]"
   ]
  },
  {
   "cell_type": "code",
   "execution_count": 33,
   "metadata": {},
   "outputs": [
    {
     "data": {
      "text/plain": [
       "0.0    116\n",
       "1.0     32\n",
       "Name: Couple Presenters, dtype: int64"
      ]
     },
     "execution_count": 33,
     "metadata": {},
     "output_type": "execute_result"
    }
   ],
   "source": [
    "#df2['Transgender Presenters'].isnull().sum()\n",
    "# number of transgender presenters = 2 and remaining 150 rows are null values\n",
    "\n",
    "#df2.drop(labels= 'Transgender Presenters', axis=1, inplace= True)\n",
    "#df2['Couple Presenters'].value_counts()"
   ]
  },
  {
   "cell_type": "code",
   "execution_count": 35,
   "metadata": {},
   "outputs": [],
   "source": [
    "# Plot showing diversity in presenters:\n",
    "#sns.countplot(x= ['Male Presenters', 'Female Presenters','Transgender Presenters','Couple Presenters'], data= df2)"
   ]
  },
  {
   "cell_type": "code",
   "execution_count": 56,
   "metadata": {},
   "outputs": [
    {
     "name": "stdout",
     "output_type": "stream",
     "text": [
      "There are 92.0 female and 220.0 male presenters.\n"
     ]
    },
    {
     "data": {
      "image/png": "[encoded data removed]",
      "text/plain": [
       "<Figure size 432x288 with 1 Axes>"
      ]
     },
     "metadata": {},
     "output_type": "display_data"
    }
   ],
   "source": [
    "#plot showing number of male and female presenters\n",
    "\n",
    "fem= df2['Female Presenters'].sum()\n",
    "mal= df2['Male Presenters'].sum()\n",
    "print('There are {} female and {} male presenters.'.format(fem,mal))\n",
    "\n",
    "labels= ['Female', \"Male\"]\n",
    "colors= sns.color_palette('pastel')\n",
    "plt.pie([fem,mal], labels= ['Female', \"Male\"], autopct= '%.0f%%')\n",
    "plt.title(\"Female & Male presenter percentage\")\n",
    "plt.show()\n"
   ]
  },
  {
   "cell_type": "code",
   "execution_count": 65,
   "metadata": {},
   "outputs": [
    {
     "name": "stdout",
     "output_type": "stream",
     "text": [
      "There were 152 pitches made in the show.\n"
     ]
    },
    {
     "data": {
      "text/plain": [
       "<matplotlib.axes._subplots.AxesSubplot at 0x146623e8eb0>"
      ]
     },
     "execution_count": 65,
     "metadata": {},
     "output_type": "execute_result"
    },
    {
     "data": {
      "image/png": "[encoded data removed]",
      "text/plain": [
       "<Figure size 432x288 with 1 Axes>"
      ]
     },
     "metadata": {
      "needs_background": "light"
     },
     "output_type": "display_data"
    }
   ],
   "source": [
    "# Offer Analysis\n",
    "\n",
    "print('There were {} pitches made in the show.'.format(df2['Pitch Number'].count()))\n",
    "sns.countplot(x= 'Received Offer', data= df2)"
   ]
  },
  {
   "cell_type": "code",
   "execution_count": 133,
   "metadata": {},
   "outputs": [
    {
     "data": {
      "image/png": "[encoded data removed]",
      "text/plain": [
       "<Figure size 1440x648 with 1 Axes>"
      ]
     },
     "metadata": {
      "needs_background": "light"
     },
     "output_type": "display_data"
    }
   ],
   "source": [
    "industries= df2['Industry'].value_counts() # number of pitches with respect to industries\n",
    "plt.figure(figsize=(20,9))\n",
    "ax= sns.barplot(x=industries.index, y=industries)\n",
    "# g= ax.bar_label(ax.containers[0])\n",
    "plt.xticks(rotation= 0)\n",
    "plt.xlabel(\"Industry\")\n",
    "plt.ylabel(\"Number of pitches\")\n",
    "plt.title(\"Total number of pitches per industry\")\n",
    "plt.show()\n"
   ]
  },
  {
   "cell_type": "markdown",
   "metadata": {},
   "source": [
    "## Number of investments made by Each shark"
   ]
  },
  {
   "cell_type": "code",
   "execution_count": 98,
   "metadata": {},
   "outputs": [
    {
     "name": "stdout",
     "output_type": "stream",
     "text": [
      "Ashnner made 21  investments\n",
      "Aman made 30  investments\n",
      "Peyush made 29  investments\n",
      "Namita made 25  investments\n",
      "Vineeta made 17  investments\n",
      "Anupam made 25  investments\n",
      "Ghazal made 8  investments\n"
     ]
    }
   ],
   "source": [
    "ashneer_investments= df2.loc[(df2['Ashneer Investment Amount'].isnull()== False) & (df2['Ashneer Investment Amount'] != 0)]\n",
    "print('Ashnner made',len(ashneer_investments),' investments')\n",
    "\n",
    "aman_investments= df2.loc[(df2['Aman Investment Amount'].isnull()== False) & (df2['Aman Investment Amount'] != 0)]\n",
    "print('Aman made',len(aman_investments),' investments')\n",
    "\n",
    "peyush_investments= df2.loc[(df2['Peyush Investment Amount'].isnull()== False) & (df2['Peyush Investment Amount'] != 0)]\n",
    "print('Peyush made',len(peyush_investments),' investments')\n",
    "\n",
    "namita_investments= df2.loc[(df2['Namita Investment Amount'].isnull()== False) & (df2['Namita Investment Amount'] != 0)]\n",
    "print('Namita made',len(namita_investments),' investments')\n",
    "\n",
    "vineeta_investments= df2.loc[(df2['Vineeta Investment Amount'].isnull()== False) & (df2['Vineeta Investment Amount'] != 0)]\n",
    "print('Vineeta made',len(vineeta_investments),' investments')\n",
    "\n",
    "anupam_investments= df2.loc[(df2['Anupam Investment Amount'].isnull()== False) & (df2['Anupam Investment Amount'] != 0)]\n",
    "print('Anupam made',len(anupam_investments),' investments')\n",
    "\n",
    "ghazal_investments= df2.loc[(df2['Ghazal Investment Amount'].isnull()== False) & (df2['Ghazal Investment Amount'] != 0)]\n",
    "print('Ghazal made',len(ghazal_investments),' investments')"
   ]
  },
  {
   "cell_type": "code",
   "execution_count": 139,
   "metadata": {},
   "outputs": [],
   "source": [
    "# list  comprehension  method\n",
    "\n",
    "invest_col = [col for col in df2.columns if \"Investment\" in col] # searching for investment in the column names of df2 amd picking it]\n"
   ]
  },
  {
   "cell_type": "code",
   "execution_count": 169,
   "metadata": {},
   "outputs": [],
   "source": [
    "investment_count= df2[invest_col][df2[invest_col] !=0].count() # count number of investment by each shark"
   ]
  },
  {
   "cell_type": "code",
   "execution_count": 156,
   "metadata": {},
   "outputs": [],
   "source": [
    "# investment_count"
   ]
  },
  {
   "cell_type": "code",
   "execution_count": 170,
   "metadata": {},
   "outputs": [],
   "source": [
    "\n",
    "# for ix in investment_count.index:\n",
    "#     first_name = ix.split()[0]\n",
    "investment_count = pd.DataFrame(investment_count)\n",
    "investment_count['first_name']= [x.split()[0] for x in investment_count.index]"
   ]
  },
  {
   "cell_type": "code",
   "execution_count": 177,
   "metadata": {},
   "outputs": [
    {
     "data": {
      "text/html": [
       "<div>\n",
       "<style scoped>\n",
       "    .dataframe tbody tr th:only-of-type {\n",
       "        vertical-align: middle;\n",
       "    }\n",
       "\n",
       "    .dataframe tbody tr th {\n",
       "        vertical-align: top;\n",
       "    }\n",
       "\n",
       "    .dataframe thead th {\n",
       "        text-align: right;\n",
       "    }\n",
       "</style>\n",
       "<table border=\"1\" class=\"dataframe\">\n",
       "  <thead>\n",
       "    <tr style=\"text-align: right;\">\n",
       "      <th></th>\n",
       "      <th>0</th>\n",
       "      <th>first_name</th>\n",
       "    </tr>\n",
       "  </thead>\n",
       "  <tbody>\n",
       "    <tr>\n",
       "      <th>Ashneer Investment Equity</th>\n",
       "      <td>21</td>\n",
       "      <td>Ashneer</td>\n",
       "    </tr>\n",
       "    <tr>\n",
       "      <th>Namita Investment Equity</th>\n",
       "      <td>25</td>\n",
       "      <td>Namita</td>\n",
       "    </tr>\n",
       "    <tr>\n",
       "      <th>Anupam Investment Equity</th>\n",
       "      <td>25</td>\n",
       "      <td>Anupam</td>\n",
       "    </tr>\n",
       "    <tr>\n",
       "      <th>Vineeta Investment Equity</th>\n",
       "      <td>17</td>\n",
       "      <td>Vineeta</td>\n",
       "    </tr>\n",
       "    <tr>\n",
       "      <th>Aman Investment Equity</th>\n",
       "      <td>30</td>\n",
       "      <td>Aman</td>\n",
       "    </tr>\n",
       "    <tr>\n",
       "      <th>Peyush Investment Equity</th>\n",
       "      <td>29</td>\n",
       "      <td>Peyush</td>\n",
       "    </tr>\n",
       "    <tr>\n",
       "      <th>Ghazal Investment Equity</th>\n",
       "      <td>8</td>\n",
       "      <td>Ghazal</td>\n",
       "    </tr>\n",
       "  </tbody>\n",
       "</table>\n",
       "</div>"
      ],
      "text/plain": [
       "                            0 first_name\n",
       "Ashneer Investment Equity  21    Ashneer\n",
       "Namita Investment Equity   25     Namita\n",
       "Anupam Investment Equity   25     Anupam\n",
       "Vineeta Investment Equity  17    Vineeta\n",
       "Aman Investment Equity     30       Aman\n",
       "Peyush Investment Equity   29     Peyush\n",
       "Ghazal Investment Equity    8     Ghazal"
      ]
     },
     "execution_count": 177,
     "metadata": {},
     "output_type": "execute_result"
    }
   ],
   "source": [
    "investment_count.drop_duplicates(subset= 'first_name' , keep= 'last')"
   ]
  },
  {
   "cell_type": "code",
   "execution_count": null,
   "metadata": {},
   "outputs": [],
   "source": []
  },
  {
   "cell_type": "code",
   "execution_count": null,
   "metadata": {},
   "outputs": [],
   "source": [
    "for inv in investment_count,index:\n",
    "    print('{} investment is {}'.format(inv.split()[0], investment_count.values))"
   ]
  },
  {
   "cell_type": "code",
   "execution_count": 137,
   "metadata": {},
   "outputs": [
    {
     "data": {
      "text/plain": [
       "Index(['Season Number', 'Episode Number', 'Episode Title', 'Pitch Number',\n",
       "       'Startup Name', 'Industry', 'Business Description', 'Company Website',\n",
       "       'Number of Presenters', 'Male Presenters', 'Female Presenters',\n",
       "       'Transgender Presenters', 'Couple Presenters', 'Pitchers Average Age',\n",
       "       'Started in', 'Pitchers City', 'Pitchers State', 'Yearly Revenue',\n",
       "       'Monthly Sales', 'Gross Margin', 'Original Ask Amount',\n",
       "       'Original Ask Equity', 'Valuation Requested', 'Received Offer',\n",
       "       'Accepted Offer', 'Total Deal Amount', 'Total Deal Equity',\n",
       "       'Total Deal Debt', 'Valuation Offered', 'Number of sharks in deal',\n",
       "       'Ashneer Investment Amount', 'Ashneer Investment Equity',\n",
       "       'Ashneer Debt Amount', 'Namita Investment Amount',\n",
       "       'Namita Investment Equity', 'Namita Debt Amount',\n",
       "       'Anupam Investment Amount', 'Anupam Investment Equity',\n",
       "       'Anupam Debt Amount', 'Vineeta Investment Amount',\n",
       "       'Vineeta Investment Equity', 'Vineeta Debt Amount',\n",
       "       'Aman Investment Amount', 'Aman Investment Equity', 'Aman Debt Amount',\n",
       "       'Peyush Investment Amount', 'Peyush Investment Equity',\n",
       "       'Peyush Debt Amount', 'Ghazal Investment Amount',\n",
       "       'Ghazal Investment Equity', 'Ghazal Debt Amount'],\n",
       "      dtype='object')"
      ]
     },
     "execution_count": 137,
     "metadata": {},
     "output_type": "execute_result"
    }
   ],
   "source": [
    "df2.columns"
   ]
  },
  {
   "cell_type": "code",
   "execution_count": 101,
   "metadata": {},
   "outputs": [],
   "source": [
    "#df2.loc[(df2['Ashneer Investment Amount'].isnull()== False) & (df2['Ashneer Investment Amount'] != 0)].count()\n",
    "#writing function"
   ]
  },
  {
   "cell_type": "code",
   "execution_count": 102,
   "metadata": {},
   "outputs": [],
   "source": [
    "#def investment_function (name):\n",
    " #   df2.loc[(df2['{name} Investment Amount'].isnull()== False) & (df2['{name} Investment Amount'] != 0)]\n",
    "#print('{name} made',len(namita_investments),' investments')"
   ]
  },
  {
   "cell_type": "code",
   "execution_count": 113,
   "metadata": {},
   "outputs": [
    {
     "data": {
      "image/png": "[encoded data removed]",
      "text/plain": [
       "<Figure size 432x288 with 1 Axes>"
      ]
     },
     "metadata": {
      "needs_background": "light"
     },
     "output_type": "display_data"
    }
   ],
   "source": [
    "total_amount= [df2['Ashneer Investment Amount'].sum(), df2['Aman Investment Amount'].sum(), \n",
    "               df2['Anupam Investment Amount'].sum(), df2['Peyush Investment Amount'].sum(),\n",
    "               df2['Ghazal Investment Amount'].sum(),\n",
    "               df2['Namita Investment Amount'].sum(), df2['Vineeta Investment Amount'].sum()]\n",
    "\n",
    "shark_names = 'Ashneer Aman Anupam Peyush Ghazal Namita Vineeta'.split()\n",
    "\n",
    "plt.bar(shark_names, total_amount)\n",
    "plt.show()"
   ]
  },
  {
   "cell_type": "code",
   "execution_count": 106,
   "metadata": {},
   "outputs": [
    {
     "data": {
      "text/plain": [
       "['Ashneer', 'Aman', 'Anupam', 'Peyush', 'Ghazal', 'Namita', 'Vineeta']"
      ]
     },
     "execution_count": 106,
     "metadata": {},
     "output_type": "execute_result"
    }
   ],
   "source": [
    "shark_names"
   ]
  },
  {
   "cell_type": "code",
   "execution_count": 185,
   "metadata": {},
   "outputs": [
    {
     "data": {
      "text/plain": [
       "Industry\n",
       "Food              1066.60005\n",
       "Beauty/Fashion     661.00000\n",
       "Manufacturing      525.00000\n",
       "Education          440.00000\n",
       "Medical            331.00101\n",
       "Name: Total Deal Amount, dtype: float64"
      ]
     },
     "execution_count": 185,
     "metadata": {},
     "output_type": "execute_result"
    }
   ],
   "source": [
    "df2.groupby('Industry')['Total Deal Amount'].sum().nlargest(5)"
   ]
  },
  {
   "cell_type": "code",
   "execution_count": 194,
   "metadata": {},
   "outputs": [
    {
     "data": {
      "text/plain": [
       "50.0"
      ]
     },
     "execution_count": 194,
     "metadata": {},
     "output_type": "execute_result"
    }
   ],
   "source": [
    "df2.groupby('Startup Name')['Total Deal Amount'].max()[0]"
   ]
  },
  {
   "cell_type": "code",
   "execution_count": 217,
   "metadata": {},
   "outputs": [],
   "source": [
    "inv = df2[['Startup Name','Total Deal Amount']].sort_values(by= 'Total Deal Amount', ascending= False)"
   ]
  },
  {
   "cell_type": "code",
   "execution_count": 218,
   "metadata": {},
   "outputs": [
    {
     "data": {
      "text/html": [
       "<div>\n",
       "<style scoped>\n",
       "    .dataframe tbody tr th:only-of-type {\n",
       "        vertical-align: middle;\n",
       "    }\n",
       "\n",
       "    .dataframe tbody tr th {\n",
       "        vertical-align: top;\n",
       "    }\n",
       "\n",
       "    .dataframe thead th {\n",
       "        text-align: right;\n",
       "    }\n",
       "</style>\n",
       "<table border=\"1\" class=\"dataframe\">\n",
       "  <thead>\n",
       "    <tr style=\"text-align: right;\">\n",
       "      <th></th>\n",
       "      <th>Startup Name</th>\n",
       "      <th>Total Deal Amount</th>\n",
       "    </tr>\n",
       "  </thead>\n",
       "  <tbody>\n",
       "    <tr>\n",
       "      <th>51</th>\n",
       "      <td>AasVidyalaya</td>\n",
       "      <td>150.0</td>\n",
       "    </tr>\n",
       "    <tr>\n",
       "      <th>37</th>\n",
       "      <td>Annie</td>\n",
       "      <td>105.0</td>\n",
       "    </tr>\n",
       "    <tr>\n",
       "      <th>88</th>\n",
       "      <td>Insurance Samadhan</td>\n",
       "      <td>100.0</td>\n",
       "    </tr>\n",
       "    <tr>\n",
       "      <th>18</th>\n",
       "      <td>Raising Superstars</td>\n",
       "      <td>100.0</td>\n",
       "    </tr>\n",
       "    <tr>\n",
       "      <th>43</th>\n",
       "      <td>Hammer Lifestyle</td>\n",
       "      <td>100.0</td>\n",
       "    </tr>\n",
       "    <tr>\n",
       "      <th>...</th>\n",
       "      <td>...</td>\n",
       "      <td>...</td>\n",
       "    </tr>\n",
       "    <tr>\n",
       "      <th>147</th>\n",
       "      <td>Inali Assistive Tech</td>\n",
       "      <td>NaN</td>\n",
       "    </tr>\n",
       "    <tr>\n",
       "      <th>148</th>\n",
       "      <td>Meera's Celebrations</td>\n",
       "      <td>NaN</td>\n",
       "    </tr>\n",
       "    <tr>\n",
       "      <th>149</th>\n",
       "      <td>Artment</td>\n",
       "      <td>NaN</td>\n",
       "    </tr>\n",
       "    <tr>\n",
       "      <th>150</th>\n",
       "      <td>Powertree</td>\n",
       "      <td>NaN</td>\n",
       "    </tr>\n",
       "    <tr>\n",
       "      <th>151</th>\n",
       "      <td>Eume</td>\n",
       "      <td>NaN</td>\n",
       "    </tr>\n",
       "  </tbody>\n",
       "</table>\n",
       "<p>152 rows × 2 columns</p>\n",
       "</div>"
      ],
      "text/plain": [
       "             Startup Name  Total Deal Amount\n",
       "51           AasVidyalaya              150.0\n",
       "37                  Annie              105.0\n",
       "88     Insurance Samadhan              100.0\n",
       "18     Raising Superstars              100.0\n",
       "43       Hammer Lifestyle              100.0\n",
       "..                    ...                ...\n",
       "147  Inali Assistive Tech                NaN\n",
       "148  Meera's Celebrations                NaN\n",
       "149               Artment                NaN\n",
       "150             Powertree                NaN\n",
       "151                  Eume                NaN\n",
       "\n",
       "[152 rows x 2 columns]"
      ]
     },
     "execution_count": 218,
     "metadata": {},
     "output_type": "execute_result"
    }
   ],
   "source": [
    "inv"
   ]
  },
  {
   "cell_type": "code",
   "execution_count": 224,
   "metadata": {},
   "outputs": [
    {
     "data": {
      "text/plain": [
       "4024.60106"
      ]
     },
     "execution_count": 224,
     "metadata": {},
     "output_type": "execute_result"
    }
   ],
   "source": [
    "inv['Total Deal Amount'].sum()"
   ]
  },
  {
   "cell_type": "code",
   "execution_count": 232,
   "metadata": {},
   "outputs": [
    {
     "name": "stdout",
     "output_type": "stream",
     "text": [
      "['AasVidyalaya', 'Annie', 'Insurance Samadhan', 'Raising Superstars', 'Hammer Lifestyle', 'IN A CAN', 'Get-A-Whey', 'Sunfox Technologies', 'The Yarn Bazaar', 'HumpyA2', 'The Renal Project', 'Revamp Moto', 'Proxgy', 'Skippi Ice Pops', 'RoadBounce', 'Kabaddi Adda', 'Wakao Foods', 'Auli', 'Beyond Water', 'Peeschute', 'BluePine Foods', 'AyuRythm', 'Bummer', 'Tagz Foods', 'Rare Planet', 'WeSTOCK', 'Hair Originals', 'Tweek Labs', 'WitBlox', 'JhaJi Achaar', 'Vivalyf Innovations', 'Carragreen', 'Gold Safe Solutions', 'The Sass Bar', 'PawsIndia', 'Ariro', 'Isak Fragrances', 'Beyond Snack', 'Menstrupedia', 'Namhya Foods', 'ARRCOAT Surface Textures', 'Find Your Kicks India', 'CosIQ']\n",
      "43\n"
     ]
    }
   ],
   "source": [
    "# df2[df2['Total Deal Amount']/df2['Total Deal Amount'].sum() >= 0.8]\n",
    "\n",
    "company_list_80= []\n",
    "ctr= 0\n",
    "total_investment= 0\n",
    "while (total_investment < 0.8 * (inv['Total Deal Amount'].sum())):\n",
    "    total_investment += inv['Total Deal Amount'].values[ctr]\n",
    "    \n",
    "    company_list_80.append(inv['Startup Name'].values[ctr])\n",
    "    ctr += 1\n",
    "print(company_list_80)\n",
    "print(len(company_list_80))\n",
    "    "
   ]
  },
  {
   "cell_type": "code",
   "execution_count": 209,
   "metadata": {},
   "outputs": [
    {
     "data": {
      "text/plain": [
       "0      75.0\n",
       "1      40.0\n",
       "2      25.0\n",
       "3      70.0\n",
       "4       NaN\n",
       "       ... \n",
       "147     NaN\n",
       "148     NaN\n",
       "149     NaN\n",
       "150     NaN\n",
       "151     NaN\n",
       "Name: Total Deal Amount, Length: 152, dtype: float64"
      ]
     },
     "execution_count": 209,
     "metadata": {},
     "output_type": "execute_result"
    }
   ],
   "source": [
    "df2['Total Deal Amount']"
   ]
  },
  {
   "cell_type": "code",
   "execution_count": null,
   "metadata": {},
   "outputs": [],
   "source": []
  }
 ],
 "metadata": {
  "kernelspec": {
   "display_name": "Python 3",
   "language": "python",
   "name": "python3"
  },
  "language_info": {
   "codemirror_mode": {
    "name": "ipython",
    "version": 3
   },
   "file_extension": ".py",
   "mimetype": "text/x-python",
   "name": "python",
   "nbconvert_exporter": "python",
   "pygments_lexer": "ipython3",
   "version": "3.8.3"
  }
 },
 "nbformat": 4,
 "nbformat_minor": 4
}
